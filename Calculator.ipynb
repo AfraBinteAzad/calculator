{
 "cells": [
  {
   "cell_type": "code",
   "execution_count": 1,
   "id": "ea5fa8eb",
   "metadata": {},
   "outputs": [],
   "source": [
    "import tkinter as tk\n",
    "\n",
    "def button_click(number):\n",
    "    current = entry.get()\n",
    "    entry.delete(0, tk.END)\n",
    "    entry.insert(tk.END, current + str(number))\n",
    "\n",
    "def button_clear():\n",
    "    entry.delete(0, tk.END)\n",
    "\n",
    "def button_equal():\n",
    "    expression = entry.get()\n",
    "    result = eval(expression)\n",
    "    entry.delete(0, tk.END)\n",
    "    entry.insert(tk.END, result)\n",
    "\n",
    "root = tk.Tk()\n",
    "root.title(\"Calculator\")\n",
    "\n",
    "entry = tk.Entry(root, width=20, justify=tk.RIGHT, font=('Arial', 14))\n",
    "entry.grid(row=0, column=0, columnspan=4, padx=10, pady=10)\n",
    "\n",
    "buttons = [\n",
    "    ('7', 1, 0),\n",
    "    ('8', 1, 1),\n",
    "    ('9', 1, 2),\n",
    "    ('/', 1, 3),\n",
    "    ('4', 2, 0),\n",
    "    ('5', 2, 1),\n",
    "    ('6', 2, 2),\n",
    "    ('*', 2, 3),\n",
    "    ('1', 3, 0),\n",
    "    ('2', 3, 1),\n",
    "    ('3', 3, 2),\n",
    "    ('-', 3, 3),\n",
    "    ('0', 4, 0),\n",
    "    ('C', 4, 1),\n",
    "    ('=', 4, 2),\n",
    "    ('+', 4, 3)\n",
    "]\n",
    "\n",
    "for button_text, row, column in buttons:\n",
    "    button = tk.Button(root, text=button_text, width=5, height=2, font=('Arial', 14), command=lambda text=button_text: button_click(text))\n",
    "    button.grid(row=row, column=column, padx=5, pady=5)\n",
    "\n",
    "clear_button = tk.Button(root, text='Clear', width=12, height=2, font=('Arial', 14), command=button_clear)\n",
    "clear_button.grid(row=5, column=0, columnspan=2, padx=5, pady=5)\n",
    "\n",
    "equal_button = tk.Button(root, text='=', width=12, height=2, font=('Arial', 14), command=button_equal)\n",
    "equal_button.grid(row=5, column=2, columnspan=2, padx=5, pady=5)\n",
    "\n",
    "root.mainloop()\n"
   ]
  },
  {
   "cell_type": "code",
   "execution_count": null,
   "id": "d3caf4b6",
   "metadata": {},
   "outputs": [],
   "source": []
  },
  {
   "cell_type": "code",
   "execution_count": null,
   "id": "f33b2d86",
   "metadata": {},
   "outputs": [],
   "source": []
  }
 ],
 "metadata": {
  "kernelspec": {
   "display_name": "Python 3 (ipykernel)",
   "language": "python",
   "name": "python3"
  },
  "language_info": {
   "codemirror_mode": {
    "name": "ipython",
    "version": 3
   },
   "file_extension": ".py",
   "mimetype": "text/x-python",
   "name": "python",
   "nbconvert_exporter": "python",
   "pygments_lexer": "ipython3",
   "version": "3.10.9"
  }
 },
 "nbformat": 4,
 "nbformat_minor": 5
}
